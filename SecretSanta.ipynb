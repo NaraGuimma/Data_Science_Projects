{
  "nbformat": 4,
  "nbformat_minor": 0,
  "metadata": {
    "colab": {
      "name": "SecretSanta.ipynb",
      "provenance": []
    },
    "kernelspec": {
      "name": "python3",
      "display_name": "Python 3"
    },
    "language_info": {
      "name": "python"
    }
  },
  "cells": [
    {
      "cell_type": "code",
      "metadata": {
        "id": "ArcvMJU_DEA2"
      },
      "source": [
        "import random\n",
        "import pandas as pd\n",
        "from IPython.display import clear_output\n",
        "import time"
      ],
      "execution_count": null,
      "outputs": []
    },
    {
      "cell_type": "code",
      "metadata": {
        "id": "GMkQUKp9DStN"
      },
      "source": [
        "def raffle(name, to_raffle):\n",
        "  maxLength = len(to_raffle)-1\n",
        "  val = True\n",
        "  resultList = []\n",
        "\n",
        "  while val:\n",
        "    num = random.randint(0, maxLength)\n",
        "    raffledName = to_raffle[num]\n",
        "    if (raffledName != name):\n",
        "      to_raffle.pop(num)\n",
        "      resultList = list((name, raffledName, to_raffle))\n",
        "      val = False\n",
        "      \n",
        "  return resultList\n",
        "\n",
        "\n",
        "def start(names_array, to_raffle):\n",
        "  pairList = []\n",
        "  while len(names_array) > 0 and len(to_raffle) > 0:\n",
        "    clear_output()\n",
        "    name = input(\"Type your name:\\n\")\n",
        "    name = name.lower()\n",
        "    if name in names_array:\n",
        "      ind = names_array.index(name)\n",
        "      names_array.pop(ind)    \n",
        "      resultList = raffle(name, to_raffle)\n",
        "      to_raffle = resultList[2]\n",
        "      print(f\"{resultList[0].upper()}, your secret Santa is {resultList[1].upper()}\\n\")\n",
        "      pairList.append(list((resultList[0].upper(), resultList[1].upper())))\n",
        "      time.sleep(3)\n",
        "    else:\n",
        "      print(\"Name not found between the participants\")\n",
        "      time.sleep(3)\n",
        "  clear_output()\n",
        "  return pairList\n",
        "  \n",
        "\t  "
      ],
      "execution_count": null,
      "outputs": []
    },
    {
      "cell_type": "code",
      "metadata": {
        "id": "qo2yPisIHKzC"
      },
      "source": [
        "def init():\n",
        "  names = input(\"Type all participants' names separated by comma:\\n\")\n",
        "  names_array = [x.strip() for x in names.lower().split(sep=\",\")]\n",
        "  to_raffle = [x.strip() for x in names.lower().split(sep=\",\")]\n",
        "  time.sleep(3)\n",
        "  listFinal = start(names_array, to_raffle)\n",
        "  df_listFinal = pd.DataFrame(listFinal, columns = ['Gift_Giver','Gift_Receiver'])\n",
        "  df_listFinal.to_csv(\"secretSanta\", sep=',', index=False, encoding='utf-8')\n",
        "\n",
        "if __name__ == \"__main__\": \\\n",
        "    init()"
      ],
      "execution_count": null,
      "outputs": []
    },
    {
      "cell_type": "code",
      "metadata": {
        "id": "cQS9DvXZOY1L"
      },
      "source": [
        ""
      ],
      "execution_count": null,
      "outputs": []
    }
  ]
}