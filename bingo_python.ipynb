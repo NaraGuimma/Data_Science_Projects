{
  "nbformat": 4,
  "nbformat_minor": 0,
  "metadata": {
    "colab": {
      "name": "bingo-python.ipynb",
      "provenance": []
    },
    "kernelspec": {
      "name": "python3",
      "display_name": "Python 3"
    },
    "language_info": {
      "name": "python"
    }
  },
  "cells": [
    {
      "cell_type": "code",
      "metadata": {
        "id": "Nl3Mhx5XkO3x"
      },
      "source": [
        "# importing the libraries\n",
        "import random\n",
        "import os\n",
        "from IPython.display import clear_output"
      ],
      "execution_count": null,
      "outputs": []
    },
    {
      "cell_type": "code",
      "metadata": {
        "id": "dY1Z9iT1k9sd"
      },
      "source": [
        "start = 2   # inclusive\n",
        "end = 5    # inclusive\n",
        "\n",
        "n = 10      # size"
      ],
      "execution_count": null,
      "outputs": []
    },
    {
      "cell_type": "code",
      "metadata": {
        "colab": {
          "base_uri": "https://localhost:8080/"
        },
        "id": "Gm_upzzYkzJw",
        "outputId": "b02e522f-6e8c-4de4-f348-f26e83908c1c"
      },
      "source": [
        "x = [random.randint(start, end) for _ in range(n)]\n",
        "x"
      ],
      "execution_count": null,
      "outputs": [
        {
          "output_type": "execute_result",
          "data": {
            "text/plain": [
              "[5, 3, 5, 3, 3, 2, 5, 5, 3, 5]"
            ]
          },
          "metadata": {},
          "execution_count": 9
        }
      ]
    },
    {
      "cell_type": "code",
      "metadata": {
        "id": "TOxeedj0rcq1"
      },
      "source": [
        "def clear():\n",
        "    os.system( 'cls' )"
      ],
      "execution_count": null,
      "outputs": []
    },
    {
      "cell_type": "code",
      "metadata": {
        "colab": {
          "base_uri": "https://localhost:8080/"
        },
        "id": "lYoeaZrrlSGf",
        "outputId": "0167e557-9ea8-4fc0-81da-773ee82a1585"
      },
      "source": [
        "def generate_number():\n",
        "  numbers_picked = []\n",
        "  val = ''\n",
        "  while val.upper() != 'BINGO':\n",
        "    val = input(\"Type *** go *** to generate new number or *** bingo *** if we have a winner:\\n\")\n",
        "    clear_output(wait=True)\n",
        "    generator = random.randint(1,100)\n",
        "    if generator not in numbers_picked:\n",
        "      numbers_picked.append(generator)\n",
        "      print(generator)\n",
        "      clear_output(wait=True)    \n",
        "  numb_drawn = [x for x in numbers_picked]\n",
        "  print(f'Number drawn {list(numb_drawn)}')\n",
        "\n",
        "\n",
        "generate_number()"
      ],
      "execution_count": null,
      "outputs": [
        {
          "output_type": "stream",
          "name": "stdout",
          "text": [
            "Number drawn [32, 22, 45, 56, 28]\n"
          ]
        }
      ]
    }
  ]
}